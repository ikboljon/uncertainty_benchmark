{
 "cells": [
  {
   "cell_type": "code",
   "execution_count": 1,
   "metadata": {},
   "outputs": [
    {
     "name": "stdout",
     "output_type": "stream",
     "text": [
      "/home/ikboljonsobirov/uncertainty-benchmark/experiments\n"
     ]
    }
   ],
   "source": [
    "cd .."
   ]
  },
  {
   "cell_type": "code",
   "execution_count": 2,
   "metadata": {},
   "outputs": [
    {
     "name": "stdout",
     "output_type": "stream",
     "text": [
      "The ``converters`` are currently experimental. It may not support operations including (but not limited to) Functions in ``torch.nn.functional`` that involved data dimension\n"
     ]
    }
   ],
   "source": [
    "import medmnist\n",
    "from tqdm import tqdm\n",
    "import numpy as np\n",
    "import torch\n",
    "import torch.nn as nn\n",
    "import torch.optim as optim\n",
    "import torch.utils.data as data\n",
    "import torchvision.transforms as transforms\n",
    "\n",
    "import medmnist\n",
    "from medmnist import INFO, Evaluator\n",
    "from models.models_mcd import ResNet18_MCD, ResNet50_MCD\n",
    "\n",
    "from acsconv.converters import ACSConverter, Conv2_5dConverter, Conv3dConverter\n",
    "from utils.utils import Transform3D, model_to_syncbn\n",
    "import os"
   ]
  },
  {
   "cell_type": "code",
   "execution_count": 3,
   "metadata": {},
   "outputs": [],
   "source": [
    "os.environ[\"CUDA_DEVICE_ORDER\"] = \"PCI_BUS_ID\"\n",
    "os.environ[\"CUDA_VISIBLE_DEVICES\"] = \"2\""
   ]
  },
  {
   "cell_type": "code",
   "execution_count": 4,
   "metadata": {},
   "outputs": [
    {
     "name": "stdout",
     "output_type": "stream",
     "text": [
      "Using downloaded and verified file: /home/ikboljonsobirov/.medmnist/organmnist3d.npz\n",
      "Using downloaded and verified file: /home/ikboljonsobirov/.medmnist/organmnist3d.npz\n",
      "Using downloaded and verified file: /home/ikboljonsobirov/.medmnist/organmnist3d.npz\n"
     ]
    }
   ],
   "source": [
    "device = torch.device(\"cuda\" if torch.cuda.is_available() else \"cpu\")\n",
    "checkpoint_path = '/home/ikboljonsobirov/uncertainty-benchmark/experiments/output/organmnist3d/231228_131656_resnet18mcd/best_model.pth'\n",
    "# checkpoint_path = '/home/ikboljonsobirov/uncertainty-benchmark/experiments/output/nodulemnist3d/231228_122254_resnet18mcd/best_model.pth'\n",
    "\n",
    "data_flag = 'organmnist3d'\n",
    "# data_flag = 'nodulemnist3d'\n",
    "download = True\n",
    "\n",
    "NUM_EPOCHS = 3\n",
    "BATCH_SIZE = 32\n",
    "lr = 0.001\n",
    "\n",
    "info = INFO[data_flag]\n",
    "DataClass = getattr(medmnist, info['python_class'])\n",
    "n_channels = info['n_channels']\n",
    "n_classes = len(info['label'])\n",
    "\n",
    "# load the data\n",
    "train_dataset = DataClass(split='train',  download=download)\n",
    "val_dataset = DataClass(split='val',  download=download)\n",
    "test_dataset = DataClass(split='test',  download=download)\n",
    "\n",
    "# encapsulate data into dataloader form\n",
    "train_loader = data.DataLoader(dataset=train_dataset, batch_size=BATCH_SIZE, shuffle=True)\n",
    "val_loader = data.DataLoader(dataset=val_dataset, batch_size=BATCH_SIZE, shuffle=False)\n",
    "test_loader = data.DataLoader(dataset=test_dataset, batch_size=BATCH_SIZE, shuffle=False)\n"
   ]
  },
  {
   "cell_type": "code",
   "execution_count": 5,
   "metadata": {},
   "outputs": [
    {
     "data": {
      "text/plain": [
       "<All keys matched successfully>"
      ]
     },
     "execution_count": 5,
     "metadata": {},
     "output_type": "execute_result"
    }
   ],
   "source": [
    "def mc_dropout_inference(model, data_loader, num_samples):\n",
    "    model.eval()  # Ensure dropout is active\n",
    "    total_output = 0\n",
    "    \n",
    "    with torch.no_grad():\n",
    "        for i in range(num_samples):\n",
    "            for data, _ in data_loader:\n",
    "                data = data.to(device)\n",
    "                output = model(data)\n",
    "                total_output += output\n",
    "\n",
    "    return total_output / num_samples\n",
    "\n",
    "# Perform MC Dropout inference\n",
    "model = ResNet18_MCD(in_channels=n_channels, num_classes=n_classes)\n",
    "model = model_to_syncbn(ACSConverter(model))\n",
    "\n",
    "model.to(device)\n",
    "model = model.double()\n",
    "model.load_state_dict(torch.load(checkpoint_path)['net'])\n",
    "\n",
    "# mc_output = mc_dropout_inference(model, test_loader, num_samples=5)"
   ]
  },
  {
   "cell_type": "code",
   "execution_count": 6,
   "metadata": {},
   "outputs": [],
   "source": [
    "import numpy as np\n",
    "import matplotlib.pyplot as plt\n",
    "from sklearn.metrics import accuracy_score, balanced_accuracy_score, roc_auc_score, f1_score, precision_score, recall_score, confusion_matrix\n",
    "import torch.nn.functional as F\n"
   ]
  },
  {
   "cell_type": "code",
   "execution_count": 7,
   "metadata": {},
   "outputs": [],
   "source": [
    "def mc_dropout_inference(model, data_loader, num_samples):\n",
    "    model.eval()  # Ensure dropout is active\n",
    "    all_outputs = []\n",
    "\n",
    "    with torch.no_grad():\n",
    "        for data, target in data_loader:\n",
    "            data = data.to(device)\n",
    "            outputs = [model(data).detach().cpu().numpy() for _ in range(num_samples)]\n",
    "\n",
    "            all_outputs.append(np.array(outputs))\n",
    "\n",
    "\n",
    "    return all_outputs #np.mean(all_outputs, axis=0), np.std(all_outputs, axis=0)\n",
    "\n",
    "# Perform MC Dropout inference\n",
    "all_outputs = mc_dropout_inference(model, test_loader, num_samples=5)\n"
   ]
  },
  {
   "cell_type": "code",
   "execution_count": 8,
   "metadata": {},
   "outputs": [
    {
     "data": {
      "text/plain": [
       "torch.Size([5, 610, 11])"
      ]
     },
     "execution_count": 8,
     "metadata": {},
     "output_type": "execute_result"
    }
   ],
   "source": [
    "# Concatenating along the second dimension\n",
    "concatenated_output = np.concatenate(all_outputs, axis=1)\n",
    "# apply softmax to the concatenated output\n",
    "concatenated_output = F.softmax(torch.tensor(concatenated_output), dim=2)\n",
    "# Checking the shape of the concatenated output\n",
    "concatenated_output.shape\n"
   ]
  },
  {
   "cell_type": "code",
   "execution_count": 9,
   "metadata": {},
   "outputs": [],
   "source": [
    "mc_mean, mc_uncertainty = torch.mean(concatenated_output, axis=0), torch.std(concatenated_output, axis=0)"
   ]
  },
  {
   "cell_type": "code",
   "execution_count": 10,
   "metadata": {},
   "outputs": [
    {
     "data": {
      "text/plain": [
       "tensor([4.7116e-04, 3.7696e-09, 3.0670e-08, 3.5347e-08, 3.7389e-05, 1.6573e-05,\n",
       "        6.7463e-05, 2.2569e-07, 3.2152e-06, 1.2266e-04, 9.9928e-01],\n",
       "       dtype=torch.float64)"
      ]
     },
     "execution_count": 10,
     "metadata": {},
     "output_type": "execute_result"
    }
   ],
   "source": [
    "mc_mean[0]"
   ]
  },
  {
   "cell_type": "code",
   "execution_count": 11,
   "metadata": {},
   "outputs": [
    {
     "data": {
      "text/plain": [
       "tensor([5.2686e-04, 3.2318e-09, 3.3801e-08, 3.7660e-08, 3.0527e-05, 1.9490e-05,\n",
       "        7.4196e-05, 2.3135e-07, 2.8475e-06, 1.1411e-04, 7.0995e-04],\n",
       "       dtype=torch.float64)"
      ]
     },
     "execution_count": 11,
     "metadata": {},
     "output_type": "execute_result"
    }
   ],
   "source": [
    "mc_uncertainty[0]"
   ]
  },
  {
   "cell_type": "code",
   "execution_count": 12,
   "metadata": {},
   "outputs": [
    {
     "name": "stdout",
     "output_type": "stream",
     "text": [
      "(32, 1)\n",
      "(32, 1)\n",
      "(32, 1)\n",
      "(32, 1)\n",
      "(32, 1)\n",
      "(32, 1)\n",
      "(32, 1)\n",
      "(32, 1)\n",
      "(32, 1)\n",
      "(32, 1)\n",
      "(32, 1)\n",
      "(32, 1)\n",
      "(32, 1)\n",
      "(32, 1)\n",
      "(32, 1)\n",
      "(32, 1)\n",
      "(32, 1)\n",
      "(32, 1)\n",
      "(32, 1)\n",
      "(2, 1)\n"
     ]
    }
   ],
   "source": [
    "targets = []\n",
    "for _, target in test_loader:\n",
    "    target = target.numpy()\n",
    "    print(target.shape)\n",
    "    targets.append(target)"
   ]
  },
  {
   "cell_type": "code",
   "execution_count": 13,
   "metadata": {},
   "outputs": [],
   "source": [
    "targets  = np.concatenate(targets, axis=0)"
   ]
  },
  {
   "cell_type": "code",
   "execution_count": 14,
   "metadata": {},
   "outputs": [
    {
     "data": {
      "text/plain": [
       "tensor([[4.7116e-04, 3.7696e-09, 3.0670e-08,  ..., 3.2152e-06, 1.2266e-04,\n",
       "         9.9928e-01],\n",
       "        [3.4071e-10, 1.3660e-05, 9.9999e-01,  ..., 2.0891e-09, 1.8663e-07,\n",
       "         7.3687e-08],\n",
       "        [1.2324e-07, 1.4329e-05, 9.1994e-06,  ..., 5.1134e-08, 3.3091e-06,\n",
       "         2.8041e-07],\n",
       "        ...,\n",
       "        [1.5812e-07, 2.7331e-04, 1.8456e-04,  ..., 3.4507e-08, 2.3050e-06,\n",
       "         1.6769e-07],\n",
       "        [1.0302e-01, 2.2308e-01, 5.4584e-04,  ..., 6.5988e-04, 2.3289e-03,\n",
       "         7.9798e-04],\n",
       "        [1.4956e-03, 1.1860e-04, 1.6732e-01,  ..., 3.5185e-03, 6.8101e-01,\n",
       "         7.6615e-02]], dtype=torch.float64)"
      ]
     },
     "execution_count": 14,
     "metadata": {},
     "output_type": "execute_result"
    }
   ],
   "source": [
    "mc_mean"
   ]
  },
  {
   "cell_type": "code",
   "execution_count": 15,
   "metadata": {},
   "outputs": [
    {
     "data": {
      "text/plain": [
       "0.9433848255128889"
      ]
     },
     "execution_count": 15,
     "metadata": {},
     "output_type": "execute_result"
    }
   ],
   "source": [
    "total_f1 = f1_score(targets, np.argmax(mc_mean, axis=1), average='macro')\n",
    "total_f1"
   ]
  },
  {
   "cell_type": "code",
   "execution_count": 101,
   "metadata": {},
   "outputs": [
    {
     "data": {
      "text/plain": [
       "array([206, 170, 145, 565, 384, 298, 161, 223, 329, 472, 586, 263, 280,\n",
       "       180, 398, 210, 537, 191, 283,  65, 203, 336, 137, 555,  45, 238,\n",
       "       351, 122,  84,  67, 567, 355, 232, 489, 314, 143, 402,  46, 449,\n",
       "       553, 359, 179,  16, 599, 578, 152, 249, 457, 390, 608, 556, 189,\n",
       "       425, 362, 264,  95, 315, 540, 155, 462, 358,  43, 387, 530, 266,\n",
       "       373, 456, 144,  42, 609,  32, 333, 172, 199, 392, 401, 440,  61,\n",
       "        26,  15, 190, 569, 225, 174, 141, 417, 407, 338, 305, 374, 343,\n",
       "       255, 539, 327, 364, 570,   8, 207, 527, 126, 544, 120, 348, 542,\n",
       "       195, 467, 357, 452, 531, 365, 520,  64,  25, 319,  66,  69,  13,\n",
       "        41, 197,  62,  70, 183,  60, 536, 564, 118, 162, 346,  29, 258,\n",
       "       136, 479, 585, 187, 464, 603, 269,  82, 290, 219, 551, 185, 484,\n",
       "       438, 198, 260, 571, 416, 500, 102, 296, 104, 503, 409, 272, 471,\n",
       "       369, 378, 473, 459,  75, 131, 293, 389, 282, 252, 304,  36, 548,\n",
       "        39, 239, 597, 270, 433, 233, 533, 228, 522, 164, 557, 414, 354,\n",
       "       318, 504, 517, 477, 549, 576, 519,  52, 492,  93, 469, 523, 182,\n",
       "       590, 515, 200, 218, 561, 224,  49, 317, 587, 435, 248,  34, 607,\n",
       "        96,  79, 322, 307,  73,   0, 367, 408, 188, 112, 600, 360, 217,\n",
       "       342, 158, 312, 165, 205, 512, 594, 295, 605, 550,  33,  27, 284,\n",
       "       201, 276,  86, 274, 286, 153, 431, 573,  47, 125, 309, 324, 382,\n",
       "       234, 485, 297, 116, 242, 202, 592, 532, 135, 458, 178, 526, 245,\n",
       "       498, 403, 441, 279, 580, 236, 169, 302, 481, 379,  23, 349, 606,\n",
       "       186, 453,   2, 601,  91,  35, 119, 194,  31, 148, 581, 262,  21,\n",
       "       221, 460, 404, 106, 541,  77,  37, 514, 244, 113, 196, 474, 490,\n",
       "       168,  14, 251, 230, 209, 495, 491, 558,  48,  89, 461, 510, 420,\n",
       "       442, 331, 436, 506, 184,  44,  85, 385, 151,  53,  87, 406, 423,\n",
       "       332,  28, 171, 428,  18, 518, 396, 340, 422,   6, 316, 321,  19,\n",
       "       337, 448,  59, 356,  97, 588, 476, 308, 101, 572, 482, 427,  12,\n",
       "       301, 493, 157, 100, 466, 323, 176, 499, 139, 208, 579,  54, 502,\n",
       "       306, 256, 574, 447, 451, 352, 103, 388, 596, 347, 432, 121, 339,\n",
       "       560, 443, 426, 400, 418, 108, 140, 399, 241, 546, 247, 405, 313,\n",
       "       534, 508, 543, 142, 470, 591, 214,  11, 227, 439,  80, 566, 430,\n",
       "       529, 288, 147, 127, 134, 193, 345, 450, 368, 521, 181,  81, 445,\n",
       "       371, 393, 259,  68, 335, 320,  30, 465, 222, 589, 397, 271,  38,\n",
       "       380, 505, 310,   1, 602, 160, 598, 483, 291, 593, 212, 294, 117,\n",
       "       149, 444, 220,   3, 278,  72, 226, 559, 568, 604, 163,  50, 446,\n",
       "       562, 109, 370, 231, 159, 463, 128, 211, 554, 216, 334, 353, 344,\n",
       "       487, 524, 110, 486,  63, 275, 488, 240, 468, 311, 287, 478,   5,\n",
       "       204,  76,  40, 424, 375, 235, 129, 281, 419, 437, 156, 229,  24,\n",
       "       475, 243, 341,   7, 528, 177, 173, 525, 497, 167, 377, 254, 386,\n",
       "       391, 253, 545, 326, 267,  17, 115, 138, 111, 285, 563, 268,  83,\n",
       "       133, 507, 257, 300,   9,  20, 166, 277,  58, 299, 583, 582, 395,\n",
       "       413, 328, 250, 366, 123, 237, 383, 289, 350, 292, 411,  88,  10,\n",
       "       273,   4, 175, 516,  98, 511, 454, 501,  51, 547,  78, 496, 363,\n",
       "        92,  99, 394, 213, 575, 261, 154, 415, 114, 421,  22, 434, 124,\n",
       "       535,  56, 107, 303, 325,  74, 265,  94, 192, 361, 246, 132, 552,\n",
       "        55, 150, 372, 577,  90, 381, 412, 595, 509, 130, 538, 455, 410,\n",
       "       480, 584, 330, 513,  57,  71, 429, 494, 146, 376, 215, 105])"
      ]
     },
     "execution_count": 101,
     "metadata": {},
     "output_type": "execute_result"
    }
   ],
   "source": [
    "np.argsort(predicted_class_uncertainty).numpy()[::-1]"
   ]
  },
  {
   "cell_type": "code",
   "execution_count": 16,
   "metadata": {},
   "outputs": [
    {
     "name": "stdout",
     "output_type": "stream",
     "text": [
      "0 0.001 0.9344262295081968\n",
      "6 0.01108080808080808 0.9354304635761589\n",
      "12 0.021161616161616163 0.9381270903010034\n",
      "19 0.031242424242424245 0.9441624365482234\n",
      "25 0.041323232323232324 0.9504273504273504\n",
      "31 0.0514040404040404 0.9568221070811744\n",
      "37 0.06148484848484849 0.9616055846422339\n",
      "43 0.07156565656565657 0.9664902998236331\n",
      "49 0.08164646464646465 0.9679144385026738\n",
      "55 0.09172727272727273 0.9711711711711711\n",
      "62 0.1018080808080808 0.9744525547445255\n",
      "68 0.11188888888888888 0.977859778597786\n",
      "74 0.12196969696969698 0.9813432835820896\n",
      "80 0.13205050505050506 0.9830188679245283\n",
      "86 0.14213131313131314 0.982824427480916\n",
      "92 0.15221212121212122 0.9826254826254827\n",
      "98 0.1622929292929293 0.984375\n",
      "105 0.17237373737373737 0.9861386138613861\n",
      "111 0.18245454545454545 0.9859719438877755\n",
      "117 0.19253535353535353 0.9878296146044625\n",
      "123 0.2026161616161616 0.9876796714579056\n",
      "129 0.2126969696969697 0.9896049896049897\n",
      "135 0.22277777777777777 0.9894736842105263\n",
      "142 0.23285858585858585 0.9914529914529915\n",
      "148 0.24293939393939395 0.9913419913419913\n",
      "154 0.25302020202020203 0.9912280701754386\n",
      "160 0.2631010101010101 0.9911111111111112\n",
      "166 0.2731818181818182 0.990990990990991\n",
      "172 0.28326262626262627 0.9908675799086758\n",
      "178 0.29334343434343435 0.9907407407407407\n",
      "185 0.30342424242424243 0.9905882352941177\n",
      "191 0.3135050505050505 0.9928400954653938\n",
      "197 0.3235858585858586 0.9927360774818402\n",
      "203 0.33366666666666667 0.9975429975429976\n",
      "209 0.34374747474747475 0.9975062344139651\n",
      "215 0.3538282828282828 0.9974683544303797\n",
      "221 0.3639090909090909 1.0\n",
      "228 0.373989898989899 1.0\n",
      "234 0.38407070707070706 1.0\n",
      "240 0.39415151515151514 1.0\n",
      "246 0.4042323232323232 1.0\n",
      "252 0.4143131313131313 1.0\n",
      "258 0.4243939393939394 1.0\n",
      "265 0.43447474747474746 1.0\n",
      "271 0.44455555555555554 1.0\n",
      "277 0.4546363636363636 1.0\n",
      "283 0.4647171717171717 1.0\n",
      "289 0.4747979797979798 1.0\n",
      "295 0.4848787878787879 1.0\n",
      "301 0.494959595959596 1.0\n",
      "308 0.5050404040404041 1.0\n",
      "314 0.5151212121212121 1.0\n",
      "320 0.5252020202020202 1.0\n",
      "326 0.5352828282828282 1.0\n",
      "332 0.5453636363636364 1.0\n",
      "338 0.5554444444444444 1.0\n",
      "344 0.5655252525252525 1.0\n",
      "351 0.5756060606060606 1.0\n",
      "357 0.5856868686868687 1.0\n",
      "363 0.5957676767676767 1.0\n",
      "369 0.6058484848484849 1.0\n",
      "375 0.6159292929292929 1.0\n",
      "381 0.626010101010101 1.0\n",
      "388 0.636090909090909 1.0\n",
      "394 0.6461717171717172 1.0\n",
      "400 0.6562525252525253 1.0\n",
      "406 0.6663333333333333 1.0\n",
      "412 0.6764141414141415 1.0\n",
      "418 0.6864949494949495 1.0\n",
      "424 0.6965757575757576 1.0\n",
      "431 0.7066565656565656 1.0\n",
      "437 0.7167373737373738 1.0\n",
      "443 0.7268181818181818 1.0\n",
      "449 0.7368989898989899 1.0\n",
      "455 0.746979797979798 1.0\n",
      "461 0.7570606060606061 1.0\n",
      "467 0.7671414141414141 1.0\n",
      "474 0.7772222222222223 1.0\n",
      "480 0.7873030303030303 1.0\n",
      "486 0.7973838383838384 1.0\n",
      "492 0.8074646464646464 1.0\n",
      "498 0.8175454545454546 1.0\n",
      "504 0.8276262626262626 1.0\n",
      "511 0.8377070707070707 1.0\n",
      "517 0.8477878787878788 1.0\n",
      "523 0.8578686868686869 1.0\n",
      "529 0.8679494949494949 1.0\n",
      "535 0.878030303030303 1.0\n",
      "541 0.8881111111111111 1.0\n",
      "547 0.8981919191919192 1.0\n",
      "554 0.9082727272727272 1.0\n",
      "560 0.9183535353535354 1.0\n",
      "566 0.9284343434343434 1.0\n",
      "572 0.9385151515151515 1.0\n",
      "578 0.9485959595959595 1.0\n",
      "584 0.9586767676767677 1.0\n",
      "590 0.9687575757575758 1.0\n",
      "597 0.9788383838383838 1.0\n",
      "603 0.988919191919192 1.0\n",
      "609 0.999 1.0\n"
     ]
    },
    {
     "data": {
      "image/png": "[encoded data removed]",
      "text/plain": [
       "<Figure size 640x480 with 1 Axes>"
      ]
     },
     "metadata": {},
     "output_type": "display_data"
    }
   ],
   "source": [
    "# Assuming predictions are the class with the highest mean probability\n",
    "predicted_classes = mc_mean.argmax(axis=1)\n",
    "predicted_class_uncertainty = mc_uncertainty[np.arange(len(mc_uncertainty)), predicted_classes]\n",
    "\n",
    "# Assuming test_labels is a list or array of the true labels\n",
    "test_labels = targets\n",
    "accuracies = []\n",
    "rejection_rates = np.linspace(0.001, 0.999, 100)\n",
    "\n",
    "for rejection_rate in rejection_rates:\n",
    "    num_reject = int(len(predicted_class_uncertainty) * rejection_rate)\n",
    "    sorted_indices = np.argsort(predicted_class_uncertainty).numpy()[::-1]\n",
    "\n",
    "    indices_to_keep = sorted_indices[num_reject:]\n",
    "    \n",
    "    selected_labels = test_labels[indices_to_keep]\n",
    "    selected_predictions = predicted_classes.numpy()[indices_to_keep]\n",
    "    \n",
    "    accuracy = accuracy_score(selected_labels, selected_predictions)\n",
    "    print(num_reject, rejection_rate, accuracy)\n",
    "\n",
    "    accuracies.append(accuracy)\n",
    "\n",
    "# Plotting the accuracy-reject curve\n",
    "plt.plot(accuracies)\n",
    "plt.xlabel('Rejection Rate')\n",
    "plt.ylabel('Accuracy')\n",
    "plt.title('Accuracy-Reject Curve')\n",
    "plt.show()\n"
   ]
  },
  {
   "cell_type": "code",
   "execution_count": 17,
   "metadata": {},
   "outputs": [],
   "source": [
    "from sklearn.utils import resample\n",
    "\n",
    "# Number of bootstrap samples\n",
    "n_bootstraps = 1000\n",
    "\n",
    "# Initialize list to store upper and lower bounds of uncertainty\n",
    "lower_bounds = []\n",
    "upper_bounds = []\n",
    "\n",
    "for rejection_rate in rejection_rates:\n",
    "    num_reject = int(len(predicted_class_uncertainty) * rejection_rate)\n",
    "    indices_to_keep = np.argsort(predicted_class_uncertainty).numpy()[::-1][num_reject:]\n",
    "    \n",
    "    bootstrap_accuracies = []\n",
    "    for _ in range(n_bootstraps):\n",
    "        # Bootstrap sampling\n",
    "        boot_indices = resample(indices_to_keep)\n",
    "        boot_labels = targets[boot_indices]\n",
    "        boot_predictions = predicted_classes.numpy()[boot_indices]\n",
    "\n",
    "        # Calculate bootstrap accuracy\n",
    "        boot_accuracy = accuracy_score(boot_labels, boot_predictions)\n",
    "        bootstrap_accuracies.append(boot_accuracy)\n",
    "\n",
    "    # Calculate the lower and upper bound of the uncertainty\n",
    "    lower_bound = np.percentile(bootstrap_accuracies, 2.5)\n",
    "    upper_bound = np.percentile(bootstrap_accuracies, 97.5)\n",
    "\n",
    "    lower_bounds.append(lower_bound)\n",
    "    upper_bounds.append(upper_bound)\n"
   ]
  },
  {
   "cell_type": "code",
   "execution_count": 18,
   "metadata": {},
   "outputs": [
    {
     "data": {
      "image/png": "[encoded data removed]",
      "text/plain": [
       "<Figure size 640x480 with 1 Axes>"
      ]
     },
     "metadata": {},
     "output_type": "display_data"
    }
   ],
   "source": [
    "# draw the uncertainty interval\n",
    "plt.plot(accuracies,label='Accuracy')\n",
    "plt.fill_between(range(len(lower_bounds)), lower_bounds, upper_bounds, color='red', alpha=0.1, label='Uncertainty Region')\n",
    "plt.xlabel('Rejection Rate')\n",
    "plt.ylabel('Accuracy')\n",
    "plt.title('Accuracy-Reject Curve (OrganMNIST3D)')\n",
    "plt.show()\n"
   ]
  },
  {
   "cell_type": "code",
   "execution_count": 105,
   "metadata": {},
   "outputs": [
    {
     "data": {
      "text/plain": [
       "0.9507286015222802"
      ]
     },
     "execution_count": 105,
     "metadata": {},
     "output_type": "execute_result"
    }
   ],
   "source": [
    "# lets get the area under this curve\n",
    "from sklearn.metrics import auc\n",
    "auc(rejection_rates, accuracies)"
   ]
  },
  {
   "cell_type": "code",
   "execution_count": null,
   "metadata": {},
   "outputs": [],
   "source": []
  }
 ],
 "metadata": {
  "kernelspec": {
   "display_name": "miccai",
   "language": "python",
   "name": "python3"
  },
  "language_info": {
   "codemirror_mode": {
    "name": "ipython",
    "version": 3
   },
   "file_extension": ".py",
   "mimetype": "text/x-python",
   "name": "python",
   "nbconvert_exporter": "python",
   "pygments_lexer": "ipython3",
   "version": "3.9.18"
  }
 },
 "nbformat": 4,
 "nbformat_minor": 2
}
