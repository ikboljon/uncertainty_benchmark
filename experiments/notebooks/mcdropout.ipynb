{
 "cells": [
  {
   "cell_type": "code",
   "execution_count": 1,
   "metadata": {},
   "outputs": [
    {
     "name": "stdout",
     "output_type": "stream",
     "text": [
      "/home/ikboljonsobirov/uncertainty-benchmark/experiments\n"
     ]
    }
   ],
   "source": [
    "cd .."
   ]
  },
  {
   "cell_type": "code",
   "execution_count": 2,
   "metadata": {},
   "outputs": [
    {
     "name": "stdout",
     "output_type": "stream",
     "text": [
      "The ``converters`` are currently experimental. It may not support operations including (but not limited to) Functions in ``torch.nn.functional`` that involved data dimension\n"
     ]
    }
   ],
   "source": [
    "import medmnist\n",
    "from tqdm import tqdm\n",
    "import numpy as np\n",
    "import torch\n",
    "import torch.nn as nn\n",
    "import torch.optim as optim\n",
    "import torch.utils.data as data\n",
    "import torchvision.transforms as transforms\n",
    "\n",
    "import medmnist\n",
    "from medmnist import INFO, Evaluator\n",
    "from models.models_mcd import ResNet18_MCD, ResNet50_MCD\n",
    "\n",
    "from acsconv.converters import ACSConverter, Conv2_5dConverter, Conv3dConverter\n",
    "from utils.utils import Transform3D, model_to_syncbn\n",
    "import os"
   ]
  },
  {
   "cell_type": "code",
   "execution_count": 3,
   "metadata": {},
   "outputs": [],
   "source": [
    "os.environ[\"CUDA_DEVICE_ORDER\"] = \"PCI_BUS_ID\"\n",
    "os.environ[\"CUDA_VISIBLE_DEVICES\"] = \"2\""
   ]
  },
  {
   "cell_type": "code",
   "execution_count": 89,
   "metadata": {},
   "outputs": [
    {
     "name": "stdout",
     "output_type": "stream",
     "text": [
      "Using downloaded and verified file: /home/ikboljonsobirov/.medmnist/nodulemnist3d.npz\n",
      "Using downloaded and verified file: /home/ikboljonsobirov/.medmnist/nodulemnist3d.npz\n",
      "Using downloaded and verified file: /home/ikboljonsobirov/.medmnist/nodulemnist3d.npz\n"
     ]
    }
   ],
   "source": [
    "device = torch.device(\"cuda\" if torch.cuda.is_available() else \"cpu\")\n",
    "# checkpoint_path = '/home/ikboljonsobirov/uncertainty-benchmark/experiments/output/organmnist3d/231228_131656_resnet18mcd/best_model.pth'\n",
    "checkpoint_path = '/home/ikboljonsobirov/uncertainty-benchmark/experiments/output/nodulemnist3d/231228_122254_resnet18mcd/best_model.pth'\n",
    "\n",
    "# data_flag = 'organmnist3d'\n",
    "data_flag = 'nodulemnist3d'\n",
    "download = True\n",
    "\n",
    "NUM_EPOCHS = 3\n",
    "BATCH_SIZE = 32\n",
    "lr = 0.001\n",
    "\n",
    "info = INFO[data_flag]\n",
    "DataClass = getattr(medmnist, info['python_class'])\n",
    "n_channels = info['n_channels']\n",
    "n_classes = len(info['label'])\n",
    "\n",
    "# load the data\n",
    "train_dataset = DataClass(split='train',  download=download)\n",
    "val_dataset = DataClass(split='val',  download=download)\n",
    "test_dataset = DataClass(split='test',  download=download)\n",
    "\n",
    "# encapsulate data into dataloader form\n",
    "train_loader = data.DataLoader(dataset=train_dataset, batch_size=BATCH_SIZE, shuffle=True)\n",
    "val_loader = data.DataLoader(dataset=val_dataset, batch_size=BATCH_SIZE, shuffle=False)\n",
    "test_loader = data.DataLoader(dataset=test_dataset, batch_size=BATCH_SIZE, shuffle=False)\n"
   ]
  },
  {
   "cell_type": "code",
   "execution_count": 90,
   "metadata": {},
   "outputs": [
    {
     "data": {
      "text/plain": [
       "<All keys matched successfully>"
      ]
     },
     "execution_count": 90,
     "metadata": {},
     "output_type": "execute_result"
    }
   ],
   "source": [
    "def mc_dropout_inference(model, data_loader, num_samples):\n",
    "    model.eval()  # Ensure dropout is active\n",
    "    total_output = 0\n",
    "    \n",
    "    with torch.no_grad():\n",
    "        for i in range(num_samples):\n",
    "            for data, _ in data_loader:\n",
    "                data = data.to(device)\n",
    "                output = model(data)\n",
    "                total_output += output\n",
    "\n",
    "    return total_output / num_samples\n",
    "\n",
    "# Perform MC Dropout inference\n",
    "model = ResNet18_MCD(in_channels=n_channels, num_classes=n_classes)\n",
    "model = model_to_syncbn(ACSConverter(model))\n",
    "\n",
    "model.to(device)\n",
    "model = model.double()\n",
    "model.load_state_dict(torch.load(checkpoint_path)['net'])\n",
    "\n",
    "# mc_output = mc_dropout_inference(model, test_loader, num_samples=5)"
   ]
  },
  {
   "cell_type": "code",
   "execution_count": 91,
   "metadata": {},
   "outputs": [],
   "source": [
    "import numpy as np\n",
    "import matplotlib.pyplot as plt\n",
    "from sklearn.metrics import accuracy_score, balanced_accuracy_score, roc_auc_score, f1_score, precision_score, recall_score, confusion_matrix\n",
    "import torch.nn.functional as F\n"
   ]
  },
  {
   "cell_type": "code",
   "execution_count": 92,
   "metadata": {},
   "outputs": [],
   "source": [
    "def mc_dropout_inference(model, data_loader, num_samples):\n",
    "    model.eval()  # Ensure dropout is active\n",
    "    all_outputs = []\n",
    "\n",
    "    with torch.no_grad():\n",
    "        for data, target in data_loader:\n",
    "            data = data.to(device)\n",
    "            outputs = [model(data).detach().cpu().numpy() for _ in range(num_samples)]\n",
    "\n",
    "            all_outputs.append(np.array(outputs))\n",
    "\n",
    "\n",
    "    return all_outputs #np.mean(all_outputs, axis=0), np.std(all_outputs, axis=0)\n",
    "\n",
    "# Perform MC Dropout inference\n",
    "all_outputs = mc_dropout_inference(model, test_loader, num_samples=5)\n"
   ]
  },
  {
   "cell_type": "code",
   "execution_count": 93,
   "metadata": {},
   "outputs": [
    {
     "data": {
      "text/plain": [
       "torch.Size([5, 310, 2])"
      ]
     },
     "execution_count": 93,
     "metadata": {},
     "output_type": "execute_result"
    }
   ],
   "source": [
    "# Concatenating along the second dimension\n",
    "concatenated_output = np.concatenate(all_outputs, axis=1)\n",
    "# apply softmax to the concatenated output\n",
    "concatenated_output = F.softmax(torch.tensor(concatenated_output), dim=2)\n",
    "# Checking the shape of the concatenated output\n",
    "concatenated_output.shape\n"
   ]
  },
  {
   "cell_type": "code",
   "execution_count": 94,
   "metadata": {},
   "outputs": [],
   "source": [
    "mc_mean, mc_uncertainty = torch.mean(concatenated_output, axis=0), torch.std(concatenated_output, axis=0)"
   ]
  },
  {
   "cell_type": "code",
   "execution_count": 95,
   "metadata": {},
   "outputs": [
    {
     "data": {
      "text/plain": [
       "tensor([0.4856, 0.5144], dtype=torch.float64)"
      ]
     },
     "execution_count": 95,
     "metadata": {},
     "output_type": "execute_result"
    }
   ],
   "source": [
    "mc_mean[0]"
   ]
  },
  {
   "cell_type": "code",
   "execution_count": 96,
   "metadata": {},
   "outputs": [
    {
     "data": {
      "text/plain": [
       "tensor([0.3523, 0.3523], dtype=torch.float64)"
      ]
     },
     "execution_count": 96,
     "metadata": {},
     "output_type": "execute_result"
    }
   ],
   "source": [
    "mc_uncertainty[0]"
   ]
  },
  {
   "cell_type": "code",
   "execution_count": 97,
   "metadata": {},
   "outputs": [
    {
     "name": "stdout",
     "output_type": "stream",
     "text": [
      "(32, 1)\n",
      "(32, 1)\n",
      "(32, 1)\n",
      "(32, 1)\n",
      "(32, 1)\n",
      "(32, 1)\n",
      "(32, 1)\n",
      "(32, 1)\n",
      "(32, 1)\n",
      "(22, 1)\n"
     ]
    }
   ],
   "source": [
    "targets = []\n",
    "for _, target in test_loader:\n",
    "    target = target.numpy()\n",
    "    print(target.shape)\n",
    "    targets.append(target)"
   ]
  },
  {
   "cell_type": "code",
   "execution_count": 98,
   "metadata": {},
   "outputs": [],
   "source": [
    "targets  = np.concatenate(targets, axis=0)"
   ]
  },
  {
   "cell_type": "code",
   "execution_count": 99,
   "metadata": {},
   "outputs": [
    {
     "data": {
      "text/plain": [
       "tensor([[4.8562e-01, 5.1438e-01],\n",
       "        [9.9527e-01, 4.7330e-03],\n",
       "        [1.0000e+00, 1.8061e-07],\n",
       "        [9.9999e-01, 1.2327e-05],\n",
       "        [4.7803e-01, 5.2197e-01],\n",
       "        [9.9988e-01, 1.2063e-04],\n",
       "        [9.9931e-01, 6.9061e-04],\n",
       "        [1.0000e+00, 4.8444e-07],\n",
       "        [9.9952e-01, 4.8207e-04],\n",
       "        [9.9980e-01, 1.9858e-04],\n",
       "        [1.2330e-02, 9.8767e-01],\n",
       "        [1.0000e+00, 3.5201e-06],\n",
       "        [9.9966e-01, 3.3567e-04],\n",
       "        [6.1422e-01, 3.8578e-01],\n",
       "        [9.9999e-01, 9.4025e-06],\n",
       "        [9.8959e-01, 1.0413e-02],\n",
       "        [1.0000e+00, 1.2172e-06],\n",
       "        [9.9448e-01, 5.5199e-03],\n",
       "        [2.1915e-03, 9.9781e-01],\n",
       "        [1.0000e+00, 1.4996e-06],\n",
       "        [1.0000e+00, 2.6224e-08],\n",
       "        [9.9995e-01, 5.4815e-05],\n",
       "        [9.9721e-01, 2.7920e-03],\n",
       "        [8.5890e-05, 9.9991e-01],\n",
       "        [1.8728e-01, 8.1272e-01],\n",
       "        [7.5017e-01, 2.4983e-01],\n",
       "        [9.9033e-01, 9.6704e-03],\n",
       "        [9.9984e-01, 1.6093e-04],\n",
       "        [9.9902e-01, 9.8490e-04],\n",
       "        [5.7452e-01, 4.2548e-01],\n",
       "        [9.4858e-01, 5.1423e-02],\n",
       "        [1.0000e+00, 4.6942e-06],\n",
       "        [4.3403e-03, 9.9566e-01],\n",
       "        [3.4267e-02, 9.6573e-01],\n",
       "        [1.0000e+00, 1.7203e-06],\n",
       "        [9.0823e-01, 9.1772e-02],\n",
       "        [9.1908e-01, 8.0923e-02],\n",
       "        [9.9998e-01, 1.9280e-05],\n",
       "        [9.9935e-01, 6.4583e-04],\n",
       "        [8.1454e-01, 1.8546e-01],\n",
       "        [2.6495e-04, 9.9974e-01],\n",
       "        [8.5894e-04, 9.9914e-01],\n",
       "        [9.9997e-01, 3.3326e-05],\n",
       "        [9.9032e-01, 9.6765e-03],\n",
       "        [9.9845e-01, 1.5549e-03],\n",
       "        [1.0000e+00, 2.8845e-06],\n",
       "        [9.9997e-01, 3.2105e-05],\n",
       "        [9.9999e-01, 1.3401e-05],\n",
       "        [9.9993e-01, 7.4998e-05],\n",
       "        [9.9990e-01, 1.0396e-04],\n",
       "        [9.9864e-01, 1.3605e-03],\n",
       "        [9.9988e-01, 1.1681e-04],\n",
       "        [9.4224e-01, 5.7760e-02],\n",
       "        [9.6752e-01, 3.2477e-02],\n",
       "        [1.0000e+00, 1.9062e-06],\n",
       "        [1.0000e+00, 3.2197e-06],\n",
       "        [9.9331e-01, 6.6873e-03],\n",
       "        [1.0000e+00, 1.4818e-06],\n",
       "        [9.9976e-01, 2.4013e-04],\n",
       "        [9.9997e-01, 3.1707e-05],\n",
       "        [9.1888e-01, 8.1125e-02],\n",
       "        [1.4811e-04, 9.9985e-01],\n",
       "        [9.8385e-01, 1.6147e-02],\n",
       "        [1.0000e+00, 1.7308e-10],\n",
       "        [1.0000e+00, 1.2131e-08],\n",
       "        [4.7042e-02, 9.5296e-01],\n",
       "        [1.5022e-01, 8.4978e-01],\n",
       "        [1.0000e+00, 1.3746e-07],\n",
       "        [1.0000e+00, 1.1735e-09],\n",
       "        [2.0347e-02, 9.7965e-01],\n",
       "        [1.0000e+00, 2.3069e-06],\n",
       "        [8.5719e-01, 1.4281e-01],\n",
       "        [9.9995e-01, 4.8969e-05],\n",
       "        [1.3198e-01, 8.6802e-01],\n",
       "        [1.0000e+00, 9.2764e-08],\n",
       "        [6.5082e-02, 9.3492e-01],\n",
       "        [9.1094e-06, 9.9999e-01],\n",
       "        [9.9998e-01, 1.7582e-05],\n",
       "        [9.3577e-01, 6.4225e-02],\n",
       "        [1.0000e+00, 4.2905e-06],\n",
       "        [9.6843e-01, 3.1575e-02],\n",
       "        [5.5121e-01, 4.4879e-01],\n",
       "        [9.9999e-01, 9.8054e-06],\n",
       "        [9.9993e-01, 6.6558e-05],\n",
       "        [2.1951e-03, 9.9780e-01],\n",
       "        [1.0000e+00, 2.0904e-09],\n",
       "        [9.8626e-01, 1.3743e-02],\n",
       "        [9.9994e-01, 5.6763e-05],\n",
       "        [1.0648e-02, 9.8935e-01],\n",
       "        [3.3563e-03, 9.9664e-01],\n",
       "        [1.0000e+00, 2.4282e-06],\n",
       "        [9.9999e-01, 1.0332e-05],\n",
       "        [1.0000e+00, 9.4391e-08],\n",
       "        [2.6335e-02, 9.7367e-01],\n",
       "        [9.9981e-01, 1.9069e-04],\n",
       "        [9.9999e-01, 9.8910e-06],\n",
       "        [1.0000e+00, 3.5175e-06],\n",
       "        [9.9998e-01, 1.8143e-05],\n",
       "        [2.9923e-05, 9.9997e-01],\n",
       "        [9.6928e-01, 3.0721e-02],\n",
       "        [8.9353e-01, 1.0647e-01],\n",
       "        [4.7037e-01, 5.2963e-01],\n",
       "        [7.5171e-01, 2.4829e-01],\n",
       "        [1.0000e+00, 4.4539e-07],\n",
       "        [5.0230e-02, 9.4977e-01],\n",
       "        [4.3788e-02, 9.5621e-01],\n",
       "        [9.9929e-01, 7.0941e-04],\n",
       "        [9.3182e-01, 6.8175e-02],\n",
       "        [1.1440e-02, 9.8856e-01],\n",
       "        [9.9971e-01, 2.8777e-04],\n",
       "        [1.2321e-01, 8.7679e-01],\n",
       "        [1.0000e+00, 9.0366e-10],\n",
       "        [1.4796e-03, 9.9852e-01],\n",
       "        [1.0000e+00, 4.5852e-10],\n",
       "        [9.9999e-01, 1.0403e-05],\n",
       "        [9.8422e-01, 1.5783e-02],\n",
       "        [1.3266e-01, 8.6734e-01],\n",
       "        [1.0000e+00, 4.2241e-08],\n",
       "        [9.9997e-01, 3.3967e-05],\n",
       "        [9.9972e-01, 2.7882e-04],\n",
       "        [9.9999e-01, 9.1795e-06],\n",
       "        [9.9439e-01, 5.6081e-03],\n",
       "        [1.0000e+00, 2.0774e-07],\n",
       "        [8.9761e-01, 1.0239e-01],\n",
       "        [9.9999e-01, 9.7284e-06],\n",
       "        [9.9976e-01, 2.4345e-04],\n",
       "        [9.9934e-01, 6.6261e-04],\n",
       "        [9.9895e-01, 1.0548e-03],\n",
       "        [9.9998e-01, 1.6461e-05],\n",
       "        [1.0000e+00, 2.5514e-06],\n",
       "        [9.9997e-01, 2.7236e-05],\n",
       "        [2.1749e-01, 7.8251e-01],\n",
       "        [9.9998e-01, 1.5571e-05],\n",
       "        [1.4315e-01, 8.5685e-01],\n",
       "        [2.3613e-05, 9.9998e-01],\n",
       "        [1.0000e+00, 3.5656e-06],\n",
       "        [9.0385e-01, 9.6146e-02],\n",
       "        [1.0000e+00, 1.2206e-07],\n",
       "        [1.0000e+00, 1.4867e-06],\n",
       "        [5.3532e-03, 9.9465e-01],\n",
       "        [1.0000e+00, 2.8560e-07],\n",
       "        [1.6016e-01, 8.3984e-01],\n",
       "        [9.9974e-01, 2.6166e-04],\n",
       "        [1.9197e-05, 9.9998e-01],\n",
       "        [6.2652e-01, 3.7348e-01],\n",
       "        [9.9994e-01, 6.1847e-05],\n",
       "        [9.9998e-01, 1.7249e-05],\n",
       "        [9.9730e-01, 2.7036e-03],\n",
       "        [9.9903e-01, 9.7226e-04],\n",
       "        [9.9053e-01, 9.4701e-03],\n",
       "        [4.9398e-04, 9.9951e-01],\n",
       "        [1.0000e+00, 1.6267e-07],\n",
       "        [9.9956e-01, 4.4172e-04],\n",
       "        [6.1541e-01, 3.8459e-01],\n",
       "        [1.0000e+00, 3.2672e-09],\n",
       "        [9.9746e-01, 2.5355e-03],\n",
       "        [9.9992e-01, 8.2664e-05],\n",
       "        [9.9998e-01, 1.8930e-05],\n",
       "        [9.2259e-01, 7.7415e-02],\n",
       "        [9.9967e-01, 3.3325e-04],\n",
       "        [9.9983e-01, 1.6754e-04],\n",
       "        [1.0000e+00, 4.6862e-07],\n",
       "        [9.4401e-01, 5.5989e-02],\n",
       "        [1.3638e-03, 9.9864e-01],\n",
       "        [1.0000e+00, 1.5930e-06],\n",
       "        [8.8617e-01, 1.1383e-01],\n",
       "        [1.0000e+00, 3.5749e-11],\n",
       "        [9.9612e-01, 3.8776e-03],\n",
       "        [9.9900e-01, 9.9631e-04],\n",
       "        [3.0360e-01, 6.9640e-01],\n",
       "        [9.9887e-01, 1.1267e-03],\n",
       "        [1.0000e+00, 1.4924e-06],\n",
       "        [6.0138e-01, 3.9862e-01],\n",
       "        [9.9930e-01, 6.9663e-04],\n",
       "        [1.0000e+00, 1.5993e-08],\n",
       "        [9.3313e-01, 6.6871e-02],\n",
       "        [9.6606e-01, 3.3943e-02],\n",
       "        [1.0000e+00, 2.9778e-07],\n",
       "        [9.2833e-01, 7.1669e-02],\n",
       "        [3.9533e-01, 6.0467e-01],\n",
       "        [4.1241e-04, 9.9959e-01],\n",
       "        [9.9823e-01, 1.7689e-03],\n",
       "        [9.9999e-01, 1.4162e-05],\n",
       "        [1.6455e-05, 9.9998e-01],\n",
       "        [6.5289e-01, 3.4711e-01],\n",
       "        [9.9996e-01, 3.7912e-05],\n",
       "        [8.7583e-01, 1.2417e-01],\n",
       "        [5.8148e-02, 9.4185e-01],\n",
       "        [1.0000e+00, 1.9129e-06],\n",
       "        [9.9999e-01, 9.9829e-06],\n",
       "        [9.9999e-01, 8.9690e-06],\n",
       "        [1.0000e+00, 3.2375e-08],\n",
       "        [4.2935e-01, 5.7065e-01],\n",
       "        [9.8520e-01, 1.4796e-02],\n",
       "        [9.9941e-01, 5.8681e-04],\n",
       "        [1.0000e+00, 4.4147e-08],\n",
       "        [9.7977e-01, 2.0233e-02],\n",
       "        [1.4128e-03, 9.9859e-01],\n",
       "        [9.9997e-01, 3.4289e-05],\n",
       "        [9.8567e-01, 1.4335e-02],\n",
       "        [1.0000e+00, 1.3065e-06],\n",
       "        [9.9993e-01, 7.4409e-05],\n",
       "        [9.9990e-01, 9.7722e-05],\n",
       "        [1.0000e+00, 6.6754e-08],\n",
       "        [1.0000e+00, 1.4702e-08],\n",
       "        [9.1547e-01, 8.4526e-02],\n",
       "        [9.9996e-01, 3.8795e-05],\n",
       "        [2.7810e-01, 7.2190e-01],\n",
       "        [9.9997e-01, 2.6229e-05],\n",
       "        [8.3734e-02, 9.1627e-01],\n",
       "        [9.9998e-01, 2.3513e-05],\n",
       "        [9.3424e-01, 6.5764e-02],\n",
       "        [9.9986e-01, 1.3707e-04],\n",
       "        [7.4407e-04, 9.9926e-01],\n",
       "        [1.0000e+00, 1.4172e-06],\n",
       "        [1.0000e+00, 7.5916e-07],\n",
       "        [9.9997e-01, 3.4559e-05],\n",
       "        [6.7280e-02, 9.3272e-01],\n",
       "        [1.0000e+00, 2.0104e-06],\n",
       "        [9.9989e-01, 1.0503e-04],\n",
       "        [3.7920e-01, 6.2080e-01],\n",
       "        [5.4598e-01, 4.5402e-01],\n",
       "        [2.0068e-02, 9.7993e-01],\n",
       "        [3.8221e-02, 9.6178e-01],\n",
       "        [2.8677e-02, 9.7132e-01],\n",
       "        [2.7690e-03, 9.9723e-01],\n",
       "        [9.9998e-01, 2.3553e-05],\n",
       "        [9.9951e-01, 4.8593e-04],\n",
       "        [1.0000e+00, 1.8397e-09],\n",
       "        [9.9999e-01, 9.3300e-06],\n",
       "        [1.0000e+00, 2.6009e-06],\n",
       "        [1.1018e-02, 9.8898e-01],\n",
       "        [9.9999e-01, 6.7458e-06],\n",
       "        [3.0924e-01, 6.9076e-01],\n",
       "        [1.0000e+00, 6.1814e-07],\n",
       "        [7.5010e-04, 9.9925e-01],\n",
       "        [1.0000e+00, 8.4703e-07],\n",
       "        [9.9996e-01, 4.3950e-05],\n",
       "        [2.9421e-01, 7.0579e-01],\n",
       "        [9.9430e-01, 5.6972e-03],\n",
       "        [1.0000e+00, 4.9677e-06],\n",
       "        [4.7876e-04, 9.9952e-01],\n",
       "        [9.9999e-01, 6.0424e-06],\n",
       "        [9.9996e-01, 4.2677e-05],\n",
       "        [1.0000e+00, 8.1690e-07],\n",
       "        [2.5757e-01, 7.4243e-01],\n",
       "        [9.5135e-01, 4.8652e-02],\n",
       "        [1.0000e+00, 2.8670e-06],\n",
       "        [4.2715e-01, 5.7285e-01],\n",
       "        [1.0000e+00, 2.1373e-06],\n",
       "        [9.9961e-01, 3.8936e-04],\n",
       "        [9.9984e-01, 1.6422e-04],\n",
       "        [6.7246e-01, 3.2754e-01],\n",
       "        [3.5009e-02, 9.6499e-01],\n",
       "        [4.3224e-01, 5.6776e-01],\n",
       "        [1.0000e+00, 3.3685e-08],\n",
       "        [9.9972e-01, 2.7829e-04],\n",
       "        [1.0000e+00, 1.3331e-08],\n",
       "        [6.0515e-05, 9.9994e-01],\n",
       "        [9.9966e-01, 3.4108e-04],\n",
       "        [1.0000e+00, 4.2923e-06],\n",
       "        [9.9925e-01, 7.5029e-04],\n",
       "        [6.0419e-05, 9.9994e-01],\n",
       "        [9.9997e-01, 3.2321e-05],\n",
       "        [9.5460e-01, 4.5403e-02],\n",
       "        [1.0000e+00, 4.8950e-06],\n",
       "        [4.0293e-01, 5.9707e-01],\n",
       "        [9.9978e-01, 2.1640e-04],\n",
       "        [9.9976e-01, 2.4381e-04],\n",
       "        [1.2429e-05, 9.9999e-01],\n",
       "        [9.8125e-01, 1.8746e-02],\n",
       "        [8.9371e-01, 1.0629e-01],\n",
       "        [1.7680e-04, 9.9982e-01],\n",
       "        [5.9310e-01, 4.0690e-01],\n",
       "        [9.9941e-01, 5.8803e-04],\n",
       "        [1.0000e+00, 3.5143e-09],\n",
       "        [9.9999e-01, 5.6431e-06],\n",
       "        [8.4913e-01, 1.5087e-01],\n",
       "        [9.9983e-01, 1.6682e-04],\n",
       "        [9.9952e-01, 4.8252e-04],\n",
       "        [9.9989e-01, 1.1074e-04],\n",
       "        [9.7768e-01, 2.2321e-02],\n",
       "        [1.0000e+00, 4.4380e-11],\n",
       "        [9.9866e-01, 1.3429e-03],\n",
       "        [9.5031e-01, 4.9692e-02],\n",
       "        [1.0000e+00, 1.1065e-06],\n",
       "        [9.9386e-01, 6.1357e-03],\n",
       "        [9.9990e-01, 9.8073e-05],\n",
       "        [1.0000e+00, 3.4114e-06],\n",
       "        [9.9926e-01, 7.3629e-04],\n",
       "        [9.9978e-01, 2.2492e-04],\n",
       "        [9.9997e-01, 3.0596e-05],\n",
       "        [2.2628e-01, 7.7372e-01],\n",
       "        [8.0312e-06, 9.9999e-01],\n",
       "        [5.9671e-01, 4.0329e-01],\n",
       "        [1.0000e+00, 2.0651e-08],\n",
       "        [7.9509e-01, 2.0491e-01],\n",
       "        [9.4598e-01, 5.4022e-02],\n",
       "        [9.2695e-01, 7.3055e-02],\n",
       "        [9.9999e-01, 8.6377e-06],\n",
       "        [1.0000e+00, 2.0079e-11],\n",
       "        [1.0000e+00, 9.5451e-08],\n",
       "        [2.0218e-05, 9.9998e-01],\n",
       "        [4.6478e-01, 5.3522e-01],\n",
       "        [9.9903e-01, 9.6520e-04],\n",
       "        [9.9987e-01, 1.2984e-04],\n",
       "        [9.9999e-01, 1.0161e-05],\n",
       "        [1.0000e+00, 4.0752e-07],\n",
       "        [6.6893e-03, 9.9331e-01],\n",
       "        [9.4108e-01, 5.8919e-02]], dtype=torch.float64)"
      ]
     },
     "execution_count": 99,
     "metadata": {},
     "output_type": "execute_result"
    }
   ],
   "source": [
    "mc_mean"
   ]
  },
  {
   "cell_type": "code",
   "execution_count": 100,
   "metadata": {},
   "outputs": [
    {
     "data": {
      "text/plain": [
       "0.7927807486631016"
      ]
     },
     "execution_count": 100,
     "metadata": {},
     "output_type": "execute_result"
    }
   ],
   "source": [
    "total_f1 = f1_score(targets, np.argmax(mc_mean, axis=1), average='macro')\n",
    "total_f1"
   ]
  },
  {
   "cell_type": "code",
   "execution_count": 101,
   "metadata": {},
   "outputs": [
    {
     "data": {
      "text/plain": [
       "array([206, 170, 145, 565, 384, 298, 161, 223, 329, 472, 586, 263, 280,\n",
       "       180, 398, 210, 537, 191, 283,  65, 203, 336, 137, 555,  45, 238,\n",
       "       351, 122,  84,  67, 567, 355, 232, 489, 314, 143, 402,  46, 449,\n",
       "       553, 359, 179,  16, 599, 578, 152, 249, 457, 390, 608, 556, 189,\n",
       "       425, 362, 264,  95, 315, 540, 155, 462, 358,  43, 387, 530, 266,\n",
       "       373, 456, 144,  42, 609,  32, 333, 172, 199, 392, 401, 440,  61,\n",
       "        26,  15, 190, 569, 225, 174, 141, 417, 407, 338, 305, 374, 343,\n",
       "       255, 539, 327, 364, 570,   8, 207, 527, 126, 544, 120, 348, 542,\n",
       "       195, 467, 357, 452, 531, 365, 520,  64,  25, 319,  66,  69,  13,\n",
       "        41, 197,  62,  70, 183,  60, 536, 564, 118, 162, 346,  29, 258,\n",
       "       136, 479, 585, 187, 464, 603, 269,  82, 290, 219, 551, 185, 484,\n",
       "       438, 198, 260, 571, 416, 500, 102, 296, 104, 503, 409, 272, 471,\n",
       "       369, 378, 473, 459,  75, 131, 293, 389, 282, 252, 304,  36, 548,\n",
       "        39, 239, 597, 270, 433, 233, 533, 228, 522, 164, 557, 414, 354,\n",
       "       318, 504, 517, 477, 549, 576, 519,  52, 492,  93, 469, 523, 182,\n",
       "       590, 515, 200, 218, 561, 224,  49, 317, 587, 435, 248,  34, 607,\n",
       "        96,  79, 322, 307,  73,   0, 367, 408, 188, 112, 600, 360, 217,\n",
       "       342, 158, 312, 165, 205, 512, 594, 295, 605, 550,  33,  27, 284,\n",
       "       201, 276,  86, 274, 286, 153, 431, 573,  47, 125, 309, 324, 382,\n",
       "       234, 485, 297, 116, 242, 202, 592, 532, 135, 458, 178, 526, 245,\n",
       "       498, 403, 441, 279, 580, 236, 169, 302, 481, 379,  23, 349, 606,\n",
       "       186, 453,   2, 601,  91,  35, 119, 194,  31, 148, 581, 262,  21,\n",
       "       221, 460, 404, 106, 541,  77,  37, 514, 244, 113, 196, 474, 490,\n",
       "       168,  14, 251, 230, 209, 495, 491, 558,  48,  89, 461, 510, 420,\n",
       "       442, 331, 436, 506, 184,  44,  85, 385, 151,  53,  87, 406, 423,\n",
       "       332,  28, 171, 428,  18, 518, 396, 340, 422,   6, 316, 321,  19,\n",
       "       337, 448,  59, 356,  97, 588, 476, 308, 101, 572, 482, 427,  12,\n",
       "       301, 493, 157, 100, 466, 323, 176, 499, 139, 208, 579,  54, 502,\n",
       "       306, 256, 574, 447, 451, 352, 103, 388, 596, 347, 432, 121, 339,\n",
       "       560, 443, 426, 400, 418, 108, 140, 399, 241, 546, 247, 405, 313,\n",
       "       534, 508, 543, 142, 470, 591, 214,  11, 227, 439,  80, 566, 430,\n",
       "       529, 288, 147, 127, 134, 193, 345, 450, 368, 521, 181,  81, 445,\n",
       "       371, 393, 259,  68, 335, 320,  30, 465, 222, 589, 397, 271,  38,\n",
       "       380, 505, 310,   1, 602, 160, 598, 483, 291, 593, 212, 294, 117,\n",
       "       149, 444, 220,   3, 278,  72, 226, 559, 568, 604, 163,  50, 446,\n",
       "       562, 109, 370, 231, 159, 463, 128, 211, 554, 216, 334, 353, 344,\n",
       "       487, 524, 110, 486,  63, 275, 488, 240, 468, 311, 287, 478,   5,\n",
       "       204,  76,  40, 424, 375, 235, 129, 281, 419, 437, 156, 229,  24,\n",
       "       475, 243, 341,   7, 528, 177, 173, 525, 497, 167, 377, 254, 386,\n",
       "       391, 253, 545, 326, 267,  17, 115, 138, 111, 285, 563, 268,  83,\n",
       "       133, 507, 257, 300,   9,  20, 166, 277,  58, 299, 583, 582, 395,\n",
       "       413, 328, 250, 366, 123, 237, 383, 289, 350, 292, 411,  88,  10,\n",
       "       273,   4, 175, 516,  98, 511, 454, 501,  51, 547,  78, 496, 363,\n",
       "        92,  99, 394, 213, 575, 261, 154, 415, 114, 421,  22, 434, 124,\n",
       "       535,  56, 107, 303, 325,  74, 265,  94, 192, 361, 246, 132, 552,\n",
       "        55, 150, 372, 577,  90, 381, 412, 595, 509, 130, 538, 455, 410,\n",
       "       480, 584, 330, 513,  57,  71, 429, 494, 146, 376, 215, 105])"
      ]
     },
     "execution_count": 101,
     "metadata": {},
     "output_type": "execute_result"
    }
   ],
   "source": [
    "np.argsort(predicted_class_uncertainty).numpy()[::-1]"
   ]
  },
  {
   "cell_type": "code",
   "execution_count": 102,
   "metadata": {},
   "outputs": [
    {
     "name": "stdout",
     "output_type": "stream",
     "text": [
      "0 0.001 0.8580645161290322\n",
      "3 0.01108080808080808 0.8599348534201955\n",
      "6 0.021161616161616163 0.8651315789473685\n",
      "9 0.031242424242424245 0.867109634551495\n",
      "12 0.041323232323232324 0.87248322147651\n",
      "15 0.0514040404040404 0.8745762711864407\n",
      "19 0.06148484848484849 0.8762886597938144\n",
      "22 0.07156565656565657 0.8784722222222222\n",
      "25 0.08164646464646465 0.8807017543859649\n",
      "28 0.09172727272727273 0.8794326241134752\n",
      "31 0.1018080808080808 0.8781362007168458\n",
      "34 0.11188888888888888 0.8804347826086957\n",
      "37 0.12196969696969698 0.8864468864468864\n",
      "40 0.13205050505050506 0.8925925925925926\n",
      "44 0.14213131313131314 0.8947368421052632\n",
      "47 0.15221212121212122 0.8973384030418251\n",
      "50 0.1622929292929293 0.9\n",
      "53 0.17237373737373737 0.9027237354085603\n",
      "56 0.18245454545454545 0.9015748031496063\n",
      "59 0.19253535353535353 0.9043824701195219\n",
      "62 0.2026161616161616 0.9112903225806451\n",
      "65 0.2126969696969697 0.9142857142857143\n",
      "69 0.22277777777777777 0.91701244813278\n",
      "72 0.23285858585858585 0.9201680672268907\n",
      "75 0.24293939393939395 0.9234042553191489\n",
      "78 0.25302020202020203 0.9267241379310345\n",
      "81 0.2631010101010101 0.925764192139738\n",
      "84 0.2731818181818182 0.9292035398230089\n",
      "87 0.28326262626262627 0.9282511210762332\n",
      "90 0.29334343434343435 0.9318181818181818\n",
      "94 0.30342424242424243 0.9351851851851852\n",
      "97 0.3135050505050505 0.9389671361502347\n",
      "100 0.3235858585858586 0.9380952380952381\n",
      "103 0.33366666666666667 0.9420289855072463\n",
      "106 0.34374747474747475 0.9411764705882353\n",
      "109 0.3538282828282828 0.945273631840796\n",
      "112 0.3639090909090909 0.9494949494949495\n",
      "115 0.373989898989899 0.9487179487179487\n",
      "119 0.38407070707070706 0.9581151832460733\n",
      "122 0.39415151515151514 0.9627659574468085\n",
      "125 0.4042323232323232 0.9675675675675676\n",
      "128 0.4143131313131313 0.967032967032967\n",
      "131 0.4243939393939394 0.9664804469273743\n",
      "134 0.43447474747474746 0.9659090909090909\n",
      "137 0.44455555555555554 0.9653179190751445\n",
      "140 0.4546363636363636 0.9647058823529412\n",
      "144 0.4647171717171717 0.9698795180722891\n",
      "147 0.4747979797979798 0.9693251533742331\n",
      "150 0.4848787878787879 0.96875\n",
      "153 0.494959595959596 0.9681528662420382\n",
      "156 0.5050404040404041 0.9675324675324676\n",
      "159 0.5151212121212121 0.9668874172185431\n",
      "162 0.5252020202020202 0.9662162162162162\n",
      "165 0.5352828282828282 0.9655172413793104\n",
      "169 0.5453636363636364 0.9645390070921985\n",
      "172 0.5554444444444444 0.9637681159420289\n",
      "175 0.5655252525252525 0.9703703703703703\n",
      "178 0.5756060606060606 0.9696969696969697\n",
      "181 0.5856868686868687 0.9689922480620154\n",
      "184 0.5957676767676767 0.9761904761904762\n",
      "187 0.6058484848484849 0.975609756097561\n",
      "190 0.6159292929292929 0.975\n",
      "194 0.626010101010101 0.9913793103448276\n",
      "197 0.636090909090909 0.9911504424778761\n",
      "200 0.6461717171717172 0.990909090909091\n",
      "203 0.6562525252525253 0.9906542056074766\n",
      "206 0.6663333333333333 0.9903846153846154\n",
      "209 0.6764141414141415 0.9900990099009901\n",
      "212 0.6864949494949495 0.9897959183673469\n",
      "215 0.6965757575757576 0.9894736842105263\n",
      "219 0.7066565656565656 0.989010989010989\n",
      "222 0.7167373737373738 0.9886363636363636\n",
      "225 0.7268181818181818 0.9882352941176471\n",
      "228 0.7368989898989899 0.9878048780487805\n",
      "231 0.746979797979798 0.9873417721518988\n",
      "234 0.7570606060606061 0.9868421052631579\n",
      "237 0.7671414141414141 0.9863013698630136\n",
      "240 0.7772222222222223 0.9857142857142858\n",
      "244 0.7873030303030303 0.9848484848484849\n",
      "247 0.7973838383838384 0.9841269841269841\n",
      "250 0.8074646464646464 0.9833333333333333\n",
      "253 0.8175454545454546 0.9824561403508771\n",
      "256 0.8276262626262626 0.9814814814814815\n",
      "259 0.8377070707070707 0.9803921568627451\n",
      "262 0.8477878787878788 0.9791666666666666\n",
      "265 0.8578686868686869 0.9777777777777777\n",
      "269 0.8679494949494949 0.975609756097561\n",
      "272 0.878030303030303 0.9736842105263158\n",
      "275 0.8881111111111111 0.9714285714285714\n",
      "278 0.8981919191919192 1.0\n",
      "281 0.9082727272727272 1.0\n",
      "284 0.9183535353535354 1.0\n",
      "287 0.9284343434343434 1.0\n",
      "290 0.9385151515151515 1.0\n",
      "294 0.9485959595959595 1.0\n",
      "297 0.9586767676767677 1.0\n",
      "300 0.9687575757575758 1.0\n",
      "303 0.9788383838383838 1.0\n",
      "306 0.988919191919192 1.0\n",
      "309 0.999 1.0\n"
     ]
    },
    {
     "data": {
      "image/png": "[encoded data removed]",
      "text/plain": [
       "<Figure size 640x480 with 1 Axes>"
      ]
     },
     "metadata": {},
     "output_type": "display_data"
    }
   ],
   "source": [
    "# Assuming predictions are the class with the highest mean probability\n",
    "predicted_classes = mc_mean.argmax(axis=1)\n",
    "predicted_class_uncertainty = mc_uncertainty[np.arange(len(mc_uncertainty)), predicted_classes]\n",
    "\n",
    "# Assuming test_labels is a list or array of the true labels\n",
    "test_labels = targets\n",
    "accuracies = []\n",
    "rejection_rates = np.linspace(0.001, 0.999, 100)\n",
    "\n",
    "for rejection_rate in rejection_rates:\n",
    "    num_reject = int(len(predicted_class_uncertainty) * rejection_rate)\n",
    "    sorted_indices = np.argsort(predicted_class_uncertainty).numpy()[::-1]\n",
    "\n",
    "    indices_to_keep = sorted_indices[num_reject:]\n",
    "    \n",
    "    selected_labels = test_labels[indices_to_keep]\n",
    "    selected_predictions = predicted_classes.numpy()[indices_to_keep]\n",
    "    \n",
    "    accuracy = accuracy_score(selected_labels, selected_predictions)\n",
    "    print(num_reject, rejection_rate, accuracy)\n",
    "\n",
    "    accuracies.append(accuracy)\n",
    "\n",
    "# Plotting the accuracy-reject curve\n",
    "plt.plot(accuracies)\n",
    "plt.xlabel('Rejection Rate')\n",
    "plt.ylabel('Accuracy')\n",
    "plt.title('Accuracy-Reject Curve')\n",
    "plt.show()\n"
   ]
  },
  {
   "cell_type": "code",
   "execution_count": 103,
   "metadata": {},
   "outputs": [],
   "source": [
    "from sklearn.utils import resample\n",
    "\n",
    "# Number of bootstrap samples\n",
    "n_bootstraps = 1000\n",
    "\n",
    "# Initialize list to store upper and lower bounds of uncertainty\n",
    "lower_bounds = []\n",
    "upper_bounds = []\n",
    "\n",
    "for rejection_rate in rejection_rates:\n",
    "    num_reject = int(len(predicted_class_uncertainty) * rejection_rate)\n",
    "    indices_to_keep = np.argsort(predicted_class_uncertainty).numpy()[::-1][num_reject:]\n",
    "    \n",
    "    bootstrap_accuracies = []\n",
    "    for _ in range(n_bootstraps):\n",
    "        # Bootstrap sampling\n",
    "        boot_indices = resample(indices_to_keep)\n",
    "        boot_labels = targets[boot_indices]\n",
    "        boot_predictions = predicted_classes.numpy()[boot_indices]\n",
    "\n",
    "        # Calculate bootstrap accuracy\n",
    "        boot_accuracy = accuracy_score(boot_labels, boot_predictions)\n",
    "        bootstrap_accuracies.append(boot_accuracy)\n",
    "\n",
    "    # Calculate the lower and upper bound of the uncertainty\n",
    "    lower_bound = np.percentile(bootstrap_accuracies, 2.5)\n",
    "    upper_bound = np.percentile(bootstrap_accuracies, 97.5)\n",
    "\n",
    "    lower_bounds.append(lower_bound)\n",
    "    upper_bounds.append(upper_bound)\n"
   ]
  },
  {
   "cell_type": "code",
   "execution_count": 104,
   "metadata": {},
   "outputs": [
    {
     "data": {
      "image/png": "[encoded data removed]",
      "text/plain": [
       "<Figure size 640x480 with 1 Axes>"
      ]
     },
     "metadata": {},
     "output_type": "display_data"
    }
   ],
   "source": [
    "# draw the uncertainty interval\n",
    "plt.plot(accuracies,label='Accuracy')\n",
    "plt.fill_between(range(len(lower_bounds)), lower_bounds, upper_bounds, color='red', alpha=0.1, label='Uncertainty Region')\n",
    "plt.xlabel('Rejection Rate')\n",
    "plt.ylabel('Accuracy')\n",
    "plt.title('Accuracy-Reject Curve (NoduleMNIST3D)')\n",
    "plt.show()\n"
   ]
  },
  {
   "cell_type": "code",
   "execution_count": 105,
   "metadata": {},
   "outputs": [
    {
     "data": {
      "text/plain": [
       "0.9507286015222802"
      ]
     },
     "execution_count": 105,
     "metadata": {},
     "output_type": "execute_result"
    }
   ],
   "source": [
    "# lets get the area under this curve\n",
    "from sklearn.metrics import auc\n",
    "auc(rejection_rates, accuracies)"
   ]
  },
  {
   "cell_type": "code",
   "execution_count": null,
   "metadata": {},
   "outputs": [],
   "source": []
  }
 ],
 "metadata": {
  "kernelspec": {
   "display_name": "miccai",
   "language": "python",
   "name": "python3"
  },
  "language_info": {
   "codemirror_mode": {
    "name": "ipython",
    "version": 3
   },
   "file_extension": ".py",
   "mimetype": "text/x-python",
   "name": "python",
   "nbconvert_exporter": "python",
   "pygments_lexer": "ipython3",
   "version": "3.9.18"
  }
 },
 "nbformat": 4,
 "nbformat_minor": 2
}
